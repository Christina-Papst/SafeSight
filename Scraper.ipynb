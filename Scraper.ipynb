{
 "cells": [
  {
   "cell_type": "code",
   "execution_count": 1,
   "metadata": {},
   "outputs": [],
   "source": [
    "# Step 1: import the necessary libraries\n",
    "from bs4 import BeautifulSoup\n",
    "from urllib.request import urlopen\n",
    "import re\n",
    "import csv\n",
    "from random import randint\n",
    "import pandas as pd\n",
    "import requests"
   ]
  },
  {
   "cell_type": "code",
   "execution_count": null,
   "metadata": {},
   "outputs": [],
   "source": [
    "# In order to circumvent the safeguards of the site against scraping, we need to create a list of fake user agents. To run the code, you need to create a free account in Scrapeops"
   ]
  },
  {
   "cell_type": "code",
   "execution_count": 2,
   "metadata": {},
   "outputs": [],
   "source": [
    "# Create a list of fake user agents\n",
    "SCRAPEOPS_API_KEY = '0e81eee1-3ea8-4fcd-95fd-cbc2ef81daee'\n",
    "\n",
    "def get_user_agent_list():\n",
    "  response = requests.get('http://headers.scrapeops.io/v1/user-agents?api_key=' + SCRAPEOPS_API_KEY)\n",
    "  json_response = response.json()\n",
    "  return json_response.get('result', [])\n",
    "\n",
    "def get_random_user_agent(user_agent_list):\n",
    "  random_index = randint(0, len(user_agent_list) - 1)\n",
    "  return user_agent_list[random_index]\n",
    "\n",
    "## Retrieve User-Agent List From ScrapeOps\n",
    "user_agent_list = get_user_agent_list()"
   ]
  },
  {
   "cell_type": "code",
   "execution_count": 3,
   "metadata": {},
   "outputs": [],
   "source": [
    "# Add Random User-Agent To Headers\n",
    "\n",
    "def get_image_urls(url):\n",
    "  headers = {'User-Agent': get_random_user_agent(user_agent_list)}\n",
    "  response = requests.get(url)\n",
    "  soup = BeautifulSoup(response.content, 'html.parser')\n",
    "  images = [img.get('src') for img in soup.find_all('img')]\n",
    "  return images\n",
    "\n"
   ]
  },
  {
   "cell_type": "code",
   "execution_count": 5,
   "metadata": {},
   "outputs": [],
   "source": [
    "url = \"https://depositphotos.com/photos/sexy-fantasy.html?sorting=newest\""
   ]
  },
  {
   "cell_type": "code",
   "execution_count": null,
   "metadata": {},
   "outputs": [],
   "source": []
  },
  {
   "cell_type": "code",
   "execution_count": null,
   "metadata": {},
   "outputs": [],
   "source": []
  },
  {
   "cell_type": "code",
   "execution_count": null,
   "metadata": {},
   "outputs": [],
   "source": []
  },
  {
   "cell_type": "code",
   "execution_count": 6,
   "metadata": {},
   "outputs": [
    {
     "data": {
      "text/plain": [
       "['https://st5.depositphotos.com/60458498/68063/i/450/depositphotos_680638884-stock-photo-photo-dangerous-warrior-viking-hunter.jpg?forcejpeg=true',\n",
       " 'https://st5.depositphotos.com/60458498/68898/i/450/depositphotos_688988310-stock-photo-photo-frightening-viking-queen-knight.jpg?forcejpeg=true',\n",
       " 'https://st5.depositphotos.com/60458498/67980/i/450/depositphotos_679808912-stock-photo-photo-stunning-mystical-lady-dark.jpg?forcejpeg=true',\n",
       " 'https://st5.depositphotos.com/44164150/67220/i/450/depositphotos_672205784-stock-photo-beautiful-young-brunette-woman-curly.jpg?forcejpeg=true',\n",
       " 'https://st5.depositphotos.com/1162342/65431/i/450/depositphotos_654310510-stock-photo-land-elves-portrait-fantasy-heavily.jpg?forcejpeg=true',\n",
       " 'https://st5.depositphotos.com/1162342/67903/i/450/depositphotos_679038422-stock-photo-portrait-fantasy-dark-elf-assassin.jpg?forcejpeg=true',\n",
       " 'https://st5.depositphotos.com/1014159/67510/i/450/depositphotos_675108170-stock-photo-red-elf-fairy-wearing-fansy.jpg?forcejpeg=true',\n",
       " 'https://st5.depositphotos.com/73757358/65763/i/450/depositphotos_657632562-stock-photo-portrait-beautiful-red-haired-girl.jpg?forcejpeg=true',\n",
       " 'https://st5.depositphotos.com/1162342/66105/i/450/depositphotos_661056450-stock-photo-portrait-fantasy-female-woodland-red.jpg?forcejpeg=true',\n",
       " 'https://st5.depositphotos.com/60458498/68063/i/450/depositphotos_680638872-stock-photo-photo-lady-celebrate-halloween-event.jpg?forcejpeg=true',\n",
       " 'https://st5.depositphotos.com/60458498/68077/i/450/depositphotos_680772818-stock-photo-photo-gorgeous-goth-dark-witch.jpg?forcejpeg=true',\n",
       " 'https://st5.depositphotos.com/25138294/66558/i/450/depositphotos_665583988-stock-photo-full-length-portrait-fantasy-warrior.jpg?forcejpeg=true',\n",
       " 'https://st5.depositphotos.com/1001959/67110/i/450/depositphotos_671103494-stock-photo-stunning-viking-girl-dressed-chainmail.jpg?forcejpeg=true',\n",
       " 'https://st5.depositphotos.com/1010237/67974/i/450/depositphotos_679740656-stock-photo-woman-searching-light-darkness-banner.jpg?forcejpeg=true',\n",
       " 'https://st5.depositphotos.com/15952980/65558/i/450/depositphotos_655587872-stock-photo-close-portrait-beautiful-blonde-female.jpg?forcejpeg=true',\n",
       " 'https://st5.depositphotos.com/73757358/65862/i/450/depositphotos_658626492-stock-photo-winter-portrait-beautiful-red-haired.jpg?forcejpeg=true',\n",
       " 'https://st5.depositphotos.com/60458498/67866/i/450/depositphotos_678665050-stock-photo-photo-powerful-lady-witch-cooking.jpg?forcejpeg=true',\n",
       " 'https://st5.depositphotos.com/6786128/67561/i/450/depositphotos_675616608-stock-photo-fantasy-red-haired-dangerous-woman.jpg?forcejpeg=true',\n",
       " 'https://st5.depositphotos.com/60458498/68769/i/450/depositphotos_687691228-stock-photo-photo-powerful-shaman-witch-viking.jpg?forcejpeg=true',\n",
       " 'https://st5.depositphotos.com/73757358/65914/i/450/depositphotos_659142846-stock-photo-portrait-magnificent-fashion-gothic-girl.jpg?forcejpeg=true',\n",
       " 'https://st5.depositphotos.com/10614052/66699/i/450/depositphotos_666995088-stock-photo-beautiful-young-witch-crystal-ball.jpg?forcejpeg=true']"
      ]
     },
     "execution_count": 6,
     "metadata": {},
     "output_type": "execute_result"
    }
   ],
   "source": [
    "get_image_urls(url)"
   ]
  }
 ],
 "metadata": {
  "kernelspec": {
   "display_name": "Python 3",
   "language": "python",
   "name": "python3"
  },
  "language_info": {
   "codemirror_mode": {
    "name": "ipython",
    "version": 3
   },
   "file_extension": ".py",
   "mimetype": "text/x-python",
   "name": "python",
   "nbconvert_exporter": "python",
   "pygments_lexer": "ipython3",
   "version": "3.11.4"
  }
 },
 "nbformat": 4,
 "nbformat_minor": 2
}
